{
 "cells": [
  {
   "cell_type": "code",
   "execution_count": 1,
   "metadata": {},
   "outputs": [
    {
     "name": "stdout",
     "output_type": "stream",
     "text": [
      "[0 1 2 3 4 5 6 7 8 9]\n",
      "[6 5 8 4 0 3 7 9 1 2]\n"
     ]
    }
   ],
   "source": [
    "import numpy as np\n",
    "a=np.arange(10)\n",
    "print(a)\n",
    "np.random.shuffle(a)\n",
    "print(a)"
   ]
  },
  {
   "cell_type": "code",
   "execution_count": 2,
   "metadata": {},
   "outputs": [],
   "source": [
    "# shuffle은 인프레이스 방식으로 적용"
   ]
  },
  {
   "cell_type": "code",
   "execution_count": 5,
   "metadata": {},
   "outputs": [
    {
     "name": "stdout",
     "output_type": "stream",
     "text": [
      "[[ 0  1  2]\n",
      " [ 3  4  5]\n",
      " [ 6  7  8]\n",
      " [ 9 10 11]\n",
      " [12 13 14]]\n",
      "[[ 0  1  2]\n",
      " [ 9 10 11]\n",
      " [ 3  4  5]\n",
      " [ 6  7  8]\n",
      " [12 13 14]]\n",
      "[[ 0  1  2]\n",
      " [ 3  4  5]\n",
      " [ 6  7  8]\n",
      " [ 9 10 11]\n",
      " [12 13 14]]\n",
      "[[ 2  1  0]\n",
      " [ 5  4  3]\n",
      " [ 8  7  6]\n",
      " [11 10  9]\n",
      " [14 13 12]]\n"
     ]
    }
   ],
   "source": [
    "M=np.arange(15).reshape(5,-1)\n",
    "print(M)\n",
    "np.random.shuffle(M)\n",
    "print(M)\n",
    "N=np.arange(15).reshape(5,-1)\n",
    "print(N)\n",
    "N=N.T\n",
    "np.random.shuffle(N)\n",
    "N=N.T\n",
    "print(N)\n",
    "# 최외콱 차원으로 서플됨"
   ]
  },
  {
   "cell_type": "code",
   "execution_count": 7,
   "metadata": {},
   "outputs": [
    {
     "name": "stdout",
     "output_type": "stream",
     "text": [
      "a: \n",
      " [ 0.          1.11111111  2.22222222  3.33333333  4.44444444  5.55555556\n",
      "  6.66666667  7.77777778  8.88888889 10.        ]\n",
      "\n",
      "b:\n",
      " [  0.          11.11111111  22.22222222  33.33333333  44.44444444\n",
      "  55.55555556  66.66666667  77.77777778  88.88888889 100.        ]\n",
      "\n"
     ]
    }
   ],
   "source": [
    "import numpy as np\n",
    "from termcolor import colored\n",
    "N=10\n",
    "\n",
    "a=np.linspace(0,10,N)\n",
    "b=np.linspace(0,100,N)\n",
    "print(f'a: \\n {a}\\n')\n",
    "print(f'b:\\n {b}\\n')"
   ]
  },
  {
   "cell_type": "code",
   "execution_count": 8,
   "metadata": {},
   "outputs": [
    {
     "name": "stdout",
     "output_type": "stream",
     "text": [
      "[ 2.22222222  4.44444444  5.55555556  1.11111111  8.88888889  3.33333333\n",
      "  7.77777778  0.          6.66666667 10.        ]\n",
      "[ 22.22222222  44.44444444  55.55555556  11.11111111  88.88888889\n",
      "  33.33333333  77.77777778   0.          66.66666667 100.        ]\n"
     ]
    }
   ],
   "source": [
    "indices=np.arange(N)\n",
    "np.random.shuffle(indices)\n",
    "a_shuffle=a[indices]\n",
    "b_shuffle=b[indices]\n",
    "print(a_shuffle)\n",
    "print(b_shuffle)"
   ]
  },
  {
   "cell_type": "code",
   "execution_count": 11,
   "metadata": {},
   "outputs": [
    {
     "name": "stdout",
     "output_type": "stream",
     "text": [
      "(6, 5) (6,)\n",
      "[[ 0.12721744  1.24021887 -0.20077451  0.34866865  0.4070192 ]\n",
      " [-1.25135084 -0.765834    0.03203312  1.22513241 -0.28458978]\n",
      " [-0.05017186  0.09896153 -1.75501996  0.84357416  2.45810919]\n",
      " [-0.02264226 -0.70359442  1.67876108  0.2192411   0.30930094]\n",
      " [-0.67124248  0.63112781  2.59174859  0.17737638  0.70008471]\n",
      " [ 0.97397576  1.65801753  0.85050192 -0.84649877 -0.10325345]]\n",
      "[67 36  6 88 94 44]\n",
      "\n",
      "[[-0.67124248  0.63112781  2.59174859  0.17737638  0.70008471]\n",
      " [ 0.97397576  1.65801753  0.85050192 -0.84649877 -0.10325345]\n",
      " [-1.25135084 -0.765834    0.03203312  1.22513241 -0.28458978]\n",
      " [ 0.12721744  1.24021887 -0.20077451  0.34866865  0.4070192 ]\n",
      " [-0.02264226 -0.70359442  1.67876108  0.2192411   0.30930094]\n",
      " [-0.05017186  0.09896153 -1.75501996  0.84357416  2.45810919]]\n",
      "[94 44 36 67 88  6]\n"
     ]
    }
   ],
   "source": [
    "N,n_feature=6,5\n",
    "n_class=100\n",
    "x_data=np.random.normal(0,1,(N,n_feature))\n",
    "y_data=np.random.randint(0,n_class,(N,))\n",
    "print(x_data.shape,y_data.shape)\n",
    "indices=np.arange(N)\n",
    "np.random.shuffle(indices)\n",
    "print(x_data)\n",
    "print(y_data)\n",
    "print()\n",
    "x_data_shuffle=x_data[indices]\n",
    "y_data_shuffle=y_data[indices]\n",
    "print(x_data_shuffle)\n",
    "print(y_data_shuffle)"
   ]
  },
  {
   "cell_type": "code",
   "execution_count": 12,
   "metadata": {},
   "outputs": [
    {
     "name": "stdout",
     "output_type": "stream",
     "text": [
      "0\n",
      "(32, 5) (32,)\n",
      "1\n",
      "(32, 5) (32,)\n",
      "2\n",
      "(32, 5) (32,)\n",
      "3\n",
      "(32, 5) (32,)\n",
      "4\n",
      "(32, 5) (32,)\n",
      "5\n",
      "(32, 5) (32,)\n",
      "6\n",
      "(32, 5) (32,)\n",
      "7\n",
      "(32, 5) (32,)\n"
     ]
    }
   ],
   "source": [
    "N,n_featrue=200,5\n",
    "n_class=100\n",
    "batch_size=32\n",
    "iters=8\n",
    "x_data=np.random.normal(0,1,(N,n_featrue))\n",
    "y_data=np.random.randint(0,n_class,N)\n",
    "for iter in range(iters):\n",
    "    indices=np.arange(N)\n",
    "    np.random.shuffle(indices)\n",
    "    batch_indices=indices[:batch_size]\n",
    "    x_batch=x_data[batch_indices]\n",
    "    y_batch=y_data[batch_indices]\n",
    "    print(iter)\n",
    "    print(x_batch.shape,y_batch.shape)"
   ]
  },
  {
   "cell_type": "code",
   "execution_count": 15,
   "metadata": {},
   "outputs": [
    {
     "name": "stdout",
     "output_type": "stream",
     "text": [
      "0\n",
      "(32, 5) (32,)\n",
      "1\n",
      "(32, 5) (32,)\n",
      "2\n",
      "(32, 5) (32,)\n",
      "3\n",
      "(32, 5) (32,)\n",
      "4\n",
      "(32, 5) (32,)\n",
      "5\n",
      "(32, 5) (32,)\n",
      "6\n",
      "(8, 5) (8,)\n",
      "7\n",
      "(0, 5) (0,)\n"
     ]
    }
   ],
   "source": [
    "N,n_featrue=200,5\n",
    "n_class=100\n",
    "batch_size=32\n",
    "iters=8\n",
    "x_data=np.random.normal(0,1,(N,n_featrue))\n",
    "y_data=np.random.randint(0,n_class,N)\n",
    "indices=np.arange(N)\n",
    "np.random.shuffle(indices)\n",
    "\n",
    "\n",
    "for iter in range(iters):\n",
    "    batch_indices=indices[batch_size*iter:batch_size*(iter+1)]\n",
    "    x_batch=x_data[batch_indices]\n",
    "    y_batch=y_data[batch_indices]\n",
    "    print(iter)\n",
    "    print(x_batch.shape,y_batch.shape)"
   ]
  },
  {
   "cell_type": "code",
   "execution_count": 1,
   "metadata": {},
   "outputs": [
    {
     "data": {
      "text/plain": [
       "['In',\n",
       " 'Out',\n",
       " '_',\n",
       " '__',\n",
       " '___',\n",
       " '__builtin__',\n",
       " '__builtins__',\n",
       " '__doc__',\n",
       " '__loader__',\n",
       " '__name__',\n",
       " '__package__',\n",
       " '__spec__',\n",
       " '__vsc_ipynb_file__',\n",
       " '_dh',\n",
       " '_i',\n",
       " '_i1',\n",
       " '_ih',\n",
       " '_ii',\n",
       " '_iii',\n",
       " '_oh',\n",
       " 'exit',\n",
       " 'get_ipython',\n",
       " 'os',\n",
       " 'quit',\n",
       " 'site',\n",
       " 'sys']"
      ]
     },
     "execution_count": 1,
     "metadata": {},
     "output_type": "execute_result"
    }
   ],
   "source": [
    "dir()"
   ]
  },
  {
   "cell_type": "code",
   "execution_count": null,
   "metadata": {},
   "outputs": [],
   "source": []
  }
 ],
 "metadata": {
  "interpreter": {
   "hash": "3101f0bc9c39296a2be38b5574a0049b5b88c1d473b09cb717b365a8aacc7cb9"
  },
  "kernelspec": {
   "display_name": "Python 3.7.11 ('my_torch')",
   "language": "python",
   "name": "python3"
  },
  "language_info": {
   "codemirror_mode": {
    "name": "ipython",
    "version": 3
   },
   "file_extension": ".py",
   "mimetype": "text/x-python",
   "name": "python",
   "nbconvert_exporter": "python",
   "pygments_lexer": "ipython3",
   "version": "3.7.11"
  },
  "orig_nbformat": 4
 },
 "nbformat": 4,
 "nbformat_minor": 2
}
