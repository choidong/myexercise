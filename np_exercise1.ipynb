{
 "cells": [
  {
   "cell_type": "code",
   "execution_count": 1,
   "metadata": {},
   "outputs": [],
   "source": [
    "import numpy as np\n"
   ]
  },
  {
   "cell_type": "code",
   "execution_count": 3,
   "metadata": {},
   "outputs": [],
   "source": [
    "np.set_printoptions(precision=2)\n",
    "# 프린터 할때 피리시즌 표시 변경"
   ]
  },
  {
   "cell_type": "code",
   "execution_count": 4,
   "metadata": {},
   "outputs": [],
   "source": [
    "M=np.random.normal(0,1,(2,3))"
   ]
  },
  {
   "cell_type": "code",
   "execution_count": 5,
   "metadata": {},
   "outputs": [
    {
     "name": "stdout",
     "output_type": "stream",
     "text": [
      "[[-0.37 -1.07 -1.36]\n",
      " [-1.26 -1.78 -0.29]]\n"
     ]
    }
   ],
   "source": [
    "print(M)"
   ]
  },
  {
   "cell_type": "code",
   "execution_count": 6,
   "metadata": {},
   "outputs": [],
   "source": [
    "n=np.sum(M)"
   ]
  },
  {
   "cell_type": "code",
   "execution_count": 8,
   "metadata": {},
   "outputs": [
    {
     "name": "stdout",
     "output_type": "stream",
     "text": [
      "-6.13\n"
     ]
    }
   ],
   "source": [
    "print(n.round(2))"
   ]
  },
  {
   "cell_type": "code",
   "execution_count": 12,
   "metadata": {},
   "outputs": [],
   "source": [
    "#set data params\n",
    "\n",
    "n_student,n_class=500,5\n",
    "means=np.random.randint(40,60,(n_class,))\n",
    "stds=np.random.uniform(5,10,(n_class,))\n",
    "\n",
    "scores=np.random.normal(loc=means,scale=stds,size=(n_student,n_class))\n"
   ]
  },
  {
   "cell_type": "code",
   "execution_count": 13,
   "metadata": {},
   "outputs": [
    {
     "name": "stdout",
     "output_type": "stream",
     "text": [
      "mean setting:\n",
      " \n",
      " [56 58 46 55 51]\n",
      "std setting:\n",
      " [9.74 5.65 6.1  5.59 9.14]\n"
     ]
    }
   ],
   "source": [
    "print(f'mean setting:\\n  {means}')\n",
    "print(f'std setting:\\n {stds}')"
   ]
  },
  {
   "cell_type": "code",
   "execution_count": 14,
   "metadata": {},
   "outputs": [
    {
     "name": "stdout",
     "output_type": "stream",
     "text": [
      "means: [56.69 57.93 45.85 54.99 50.71]\n",
      "stds: [9.91 5.58 5.89 5.65 9.1 ]\n"
     ]
    }
   ],
   "source": [
    "print('means:',np.mean(scores,axis=0))\n",
    "print('stds:',np.std(scores,axis=0))\n"
   ]
  },
  {
   "cell_type": "code",
   "execution_count": 16,
   "metadata": {},
   "outputs": [
    {
     "name": "stdout",
     "output_type": "stream",
     "text": [
      "max: [92.32 73.6  63.44 79.49 72.44]\n",
      "min [20.23 39.82 27.76 38.12 16.58]\n"
     ]
    }
   ],
   "source": [
    "print('max:',scores.max(axis=0))\n",
    "print('min',np.amin(scores,axis=0))"
   ]
  },
  {
   "cell_type": "code",
   "execution_count": 17,
   "metadata": {},
   "outputs": [],
   "source": [
    "#min_max_normalization\n",
    "scores_min_max_nor=(scores-scores.min(axis=0,keepdims=True))/(scores.max(axis=0,keepdims=True)-scores.min(axis=0,keepdims=True)) "
   ]
  },
  {
   "cell_type": "code",
   "execution_count": 18,
   "metadata": {},
   "outputs": [
    {
     "data": {
      "text/plain": [
       "(500, 5)"
      ]
     },
     "execution_count": 18,
     "metadata": {},
     "output_type": "execute_result"
    }
   ],
   "source": [
    "scores_min_max_nor.shape"
   ]
  },
  {
   "cell_type": "code",
   "execution_count": 20,
   "metadata": {},
   "outputs": [
    {
     "name": "stdout",
     "output_type": "stream",
     "text": [
      "[0.51 0.54 0.51 0.41 0.61]\n",
      "[0. 0. 0. 0. 0.]\n",
      "[1. 1. 1. 1. 1.]\n"
     ]
    }
   ],
   "source": [
    "print(scores_min_max_nor.mean(axis=0))\n",
    "print(scores_min_max_nor.min(axis=0))\n",
    "print(scores_min_max_nor.max(axis=0))\n"
   ]
  },
  {
   "cell_type": "code",
   "execution_count": 21,
   "metadata": {},
   "outputs": [],
   "source": [
    "scores_standard=(scores-scores.mean(axis=0,keepdims=True))/scores.std(axis=0,keepdims=True)"
   ]
  },
  {
   "cell_type": "code",
   "execution_count": 22,
   "metadata": {},
   "outputs": [
    {
     "data": {
      "text/plain": [
       "array([-1.92e-15,  1.70e-14, -4.12e-15,  3.14e-15, -4.33e-15])"
      ]
     },
     "execution_count": 22,
     "metadata": {},
     "output_type": "execute_result"
    }
   ],
   "source": [
    "scores_standard.mean(axis=0)"
   ]
  },
  {
   "cell_type": "code",
   "execution_count": 23,
   "metadata": {},
   "outputs": [
    {
     "data": {
      "text/plain": [
       "array([1., 1., 1., 1., 1.])"
      ]
     },
     "execution_count": 23,
     "metadata": {},
     "output_type": "execute_result"
    }
   ],
   "source": [
    "scores_standard.std(axis=0)"
   ]
  },
  {
   "cell_type": "code",
   "execution_count": 26,
   "metadata": {},
   "outputs": [],
   "source": [
    "from termcolor import colored"
   ]
  },
  {
   "cell_type": "code",
   "execution_count": 28,
   "metadata": {},
   "outputs": [
    {
     "name": "stdout",
     "output_type": "stream",
     "text": [
      "\u001b[32mbefore m-M normalization\u001b[0m\n"
     ]
    }
   ],
   "source": [
    "M_scores=scores.max(axis=0)\n",
    "m_scores=scores.min(axis=0)\n",
    "print(colored('before m-M normalization','green'))\n"
   ]
  },
  {
   "cell_type": "code",
   "execution_count": 29,
   "metadata": {},
   "outputs": [
    {
     "name": "stdout",
     "output_type": "stream",
     "text": [
      "\u001b[32mbefore\u001b[0m\n"
     ]
    }
   ],
   "source": [
    "import numpy as np\n",
    "np.set_printoptions(precision=2)\n",
    "means=scores.mean(axis=0)\n",
    "stds=scores.std(axis=0)\n",
    "print(colored('before','green'))"
   ]
  },
  {
   "cell_type": "code",
   "execution_count": 34,
   "metadata": {},
   "outputs": [
    {
     "name": "stdout",
     "output_type": "stream",
     "text": [
      "(10,) [32  7 95 47 47 92 11 63 64  4]\n"
     ]
    }
   ],
   "source": [
    "n_student=10\n",
    "scores=np.random.randint(0,100,(n_student,))\n",
    "print(scores.shape,scores)\n",
    "cutoff=np.array([20,40,60,80]).reshape(-1,1)\n"
   ]
  },
  {
   "cell_type": "code",
   "execution_count": 38,
   "metadata": {},
   "outputs": [],
   "source": [
    "scores_grade=np.where(scores<cutoff[0],0,np.where(scores<cutoff[1],1,np.where(scores<cutoff[2],2,np.where(scores<cutoff[3],3,4))))"
   ]
  },
  {
   "cell_type": "code",
   "execution_count": 39,
   "metadata": {},
   "outputs": [
    {
     "data": {
      "text/plain": [
       "array([1, 0, 4, 2, 2, 4, 0, 3, 3, 0])"
      ]
     },
     "execution_count": 39,
     "metadata": {},
     "output_type": "execute_result"
    }
   ],
   "source": [
    "scores_grade"
   ]
  },
  {
   "cell_type": "code",
   "execution_count": 41,
   "metadata": {},
   "outputs": [
    {
     "name": "stdout",
     "output_type": "stream",
     "text": [
      "(10, 1) (1, 4)\n"
     ]
    }
   ],
   "source": [
    "scores=scores.reshape(-1,1)\n",
    "cutoff=cutoff.reshape(1,-1)\n",
    "print(scores.shape,cutoff.shape)"
   ]
  },
  {
   "cell_type": "code",
   "execution_count": 47,
   "metadata": {},
   "outputs": [
    {
     "name": "stdout",
     "output_type": "stream",
     "text": [
      "[[1]\n",
      " [0]\n",
      " [4]\n",
      " [2]\n",
      " [2]\n",
      " [4]\n",
      " [0]\n",
      " [3]\n",
      " [3]\n",
      " [0]]\n",
      "[[32  1]\n",
      " [ 7  0]\n",
      " [95  4]\n",
      " [47  2]\n",
      " [47  2]\n",
      " [92  4]\n",
      " [11  0]\n",
      " [63  3]\n",
      " [64  3]\n",
      " [ 4  0]]\n"
     ]
    }
   ],
   "source": [
    "grade= (scores>cutoff).astype(np.int8).sum(axis=1).reshape(-1,1)\n",
    "print(grade)\n",
    "scores_grade=np.hstack([scores,grade])\n",
    "print(scores_grade)"
   ]
  },
  {
   "cell_type": "code",
   "execution_count": null,
   "metadata": {},
   "outputs": [],
   "source": []
  }
 ],
 "metadata": {
  "interpreter": {
   "hash": "1a23b359b064fa6e8961cc46a3d3a98296afa3c81bd124c0e6c6972ba0aa03d7"
  },
  "kernelspec": {
   "display_name": "Python 3.9.12 64-bit (windows store)",
   "language": "python",
   "name": "python3"
  },
  "language_info": {
   "codemirror_mode": {
    "name": "ipython",
    "version": 3
   },
   "file_extension": ".py",
   "mimetype": "text/x-python",
   "name": "python",
   "nbconvert_exporter": "python",
   "pygments_lexer": "ipython3",
   "version": "3.7.11"
  },
  "orig_nbformat": 4
 },
 "nbformat": 4,
 "nbformat_minor": 2
}
