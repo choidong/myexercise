{
 "cells": [
  {
   "cell_type": "code",
   "execution_count": 3,
   "metadata": {},
   "outputs": [
    {
     "data": {
      "text/plain": [
       "<contextlib._GeneratorContextManager at 0x2c167267688>"
      ]
     },
     "execution_count": 3,
     "metadata": {},
     "output_type": "execute_result"
    }
   ],
   "source": [
    "import numpy as np\n",
    "from termcolor import colored\n",
    "\n",
    "np.printoptions(precision=2)"
   ]
  },
  {
   "cell_type": "code",
   "execution_count": 9,
   "metadata": {},
   "outputs": [
    {
     "name": "stdout",
     "output_type": "stream",
     "text": [
      "\u001b[32m(array([8.34245061, 7.6860489 , 1.5131404 , 2.11706578]), array([5.81289064, 2.81280237, 4.78204692, 5.53970822]))\u001b[0m\n",
      "11.638014918063869 9.760015098872453\n"
     ]
    }
   ],
   "source": [
    "n_element=4\n",
    "u=np.random.uniform(0,10,(n_element,))\n",
    "v=np.random.uniform(0,10,(n_element,))\n",
    "print(colored((u,v),'green' ))\n",
    "\n",
    "u_len=np.sqrt(np.sum(np.square(u)))\n",
    "v_len=np.sqrt(np.sum(np.square(v)))\n",
    "print(u_len,v_len)"
   ]
  },
  {
   "cell_type": "code",
   "execution_count": 10,
   "metadata": {},
   "outputs": [
    {
     "name": "stdout",
     "output_type": "stream",
     "text": [
      "[0.71682763 0.66042611 0.13001705 0.18190953] [0.59558214 0.28819652 0.48996307 0.56759218]\n"
     ]
    }
   ],
   "source": [
    "u_unit=u/u_len\n",
    "v_unit=v/v_len\n",
    "print(u_unit,v_unit)\n"
   ]
  },
  {
   "cell_type": "code",
   "execution_count": 14,
   "metadata": {},
   "outputs": [],
   "source": [
    "n_vector,n_element=3,4\n",
    "U=np.random.uniform(0,10,(n_vector,n_element))\n",
    "U_len=np.sqrt(np.sum(np.square(U),axis=1))"
   ]
  },
  {
   "cell_type": "code",
   "execution_count": 16,
   "metadata": {},
   "outputs": [],
   "source": [
    "U_unit=U/U_len.reshape(-1,1)"
   ]
  },
  {
   "cell_type": "code",
   "execution_count": 18,
   "metadata": {},
   "outputs": [
    {
     "name": "stdout",
     "output_type": "stream",
     "text": [
      "[1. 1. 1.]\n"
     ]
    }
   ],
   "source": [
    "U_unit_len=np.sum(np.square(U_unit),axis=1)\n",
    "print(U_unit_len)"
   ]
  },
  {
   "cell_type": "code",
   "execution_count": 21,
   "metadata": {},
   "outputs": [
    {
     "name": "stdout",
     "output_type": "stream",
     "text": [
      "(4,) (4,)\n",
      "euclidean distance 7.810982330179535\n"
     ]
    }
   ],
   "source": [
    "import numpy as np\n",
    "np.printoptions(precision=2)\n",
    "n_element=4\n",
    "u=np.random.uniform(0,10,(n_element,))\n",
    "v=np.random.uniform(0,10,(n_element,))\n",
    "print(u.shape,v.shape)\n",
    "distance=np.sqrt(np.sum(np.square(u-v)))\n",
    "print('euclidean distance',distance)"
   ]
  },
  {
   "cell_type": "code",
   "execution_count": 23,
   "metadata": {},
   "outputs": [
    {
     "name": "stdout",
     "output_type": "stream",
     "text": [
      "[9.11879416 6.74235411 9.07046658]\n"
     ]
    }
   ],
   "source": [
    "import numpy as np\n",
    "np.printoptions(precision=2)\n",
    "n_vector,n_element=3,4\n",
    "u=np.random.uniform(0,10,(n_vector,n_element))\n",
    "v=np.random.uniform(0,10,(n_vector,n_element))\n",
    "distance=np.sqrt(np.sum(np.square(u-v),axis=1))\n",
    "print(distance)"
   ]
  },
  {
   "cell_type": "code",
   "execution_count": 25,
   "metadata": {},
   "outputs": [
    {
     "name": "stdout",
     "output_type": "stream",
     "text": [
      "(1, 3, 4) (4, 1, 4)\n"
     ]
    }
   ],
   "source": [
    "import numpy as np\n",
    "np.printoptions(precition=2)\n",
    "n_vector1,n_vector2=3,4\n",
    "n_element=4\n",
    "U=np.random.uniform(0,10,(n_vector1,n_element))\n",
    "V=np.random.uniform(0,10,(n_vector2,n_element))\n",
    "U_=np.expand_dims(U,0)\n",
    "V_=np.expand_dims(V,1)\n",
    "print(U_.shape,V_.shape)"
   ]
  },
  {
   "cell_type": "code",
   "execution_count": 31,
   "metadata": {},
   "outputs": [
    {
     "name": "stdout",
     "output_type": "stream",
     "text": [
      "[[[0.28075659 8.66689037 3.92154527 1.04589115]\n",
      "  [3.12882165 0.31624476 1.76781601 2.65309737]\n",
      "  [8.21282079 6.85413069 2.69149961 6.8989447 ]]] \n",
      " [[[1.82370569 9.50245845 0.37102722 6.11003655]]\n",
      "\n",
      " [[7.71879165 5.49898696 7.50122926 2.860247  ]]\n",
      "\n",
      " [[9.41073299 8.29608051 0.88240515 4.58452966]]\n",
      "\n",
      " [[4.37282608 6.99787109 4.08825051 7.27709259]]]\n",
      "[[[-1.54294909 -0.83556808  3.55051805 -5.0641454 ]\n",
      "  [ 1.30511596 -9.18621368  1.39678879 -3.45693918]\n",
      "  [ 6.38911511 -2.64832776  2.32047238  0.78890815]]\n",
      "\n",
      " [[-7.43803505  3.16790341 -3.57968399 -1.81435585]\n",
      "  [-4.58997    -5.1827422  -5.73341324 -0.20714964]\n",
      "  [ 0.49402914  1.35514372 -4.80972965  4.0386977 ]]\n",
      "\n",
      " [[-9.12997639  0.37080986  3.03914012 -3.53863851]\n",
      "  [-6.28191134 -7.97983575  0.88541086 -1.93143229]\n",
      "  [-1.19791219 -1.44194983  1.80909446  2.31441504]]\n",
      "\n",
      " [[-4.09206948  1.66901928 -0.16670524 -6.23120143]\n",
      "  [-1.24400443 -6.68162633 -2.3204345  -4.62399522]\n",
      "  [ 3.83999472 -0.1437404  -1.3967509  -0.37814789]]]\n"
     ]
    }
   ],
   "source": [
    "print(U_,'\\n',V_)\n",
    "print(U_-V_)"
   ]
  },
  {
   "cell_type": "code",
   "execution_count": 35,
   "metadata": {},
   "outputs": [
    {
     "name": "stdout",
     "output_type": "stream",
     "text": [
      "[[ 6.42888893  9.99956484  7.33766992]\n",
      " [ 9.02585187  8.99130579  6.44399392]\n",
      " [10.25925456 10.37567211  3.48476006]\n",
      " [ 7.64109416  8.5415119   4.10610882]]\n"
     ]
    }
   ],
   "source": [
    "\n",
    "E_disatance_fully=np.sqrt(np.sum(np.square(U_-V_),axis=2))\n",
    "print(E_disatance_fully)"
   ]
  },
  {
   "cell_type": "code",
   "execution_count": 36,
   "metadata": {},
   "outputs": [
    {
     "data": {
      "text/plain": [
       "<contextlib._GeneratorContextManager at 0x2c16733f988>"
      ]
     },
     "execution_count": 36,
     "metadata": {},
     "output_type": "execute_result"
    }
   ],
   "source": [
    "#manhatan distance\n",
    "import numpy as np\n",
    "np.printoptions(precition=2)\n"
   ]
  },
  {
   "cell_type": "code",
   "execution_count": 38,
   "metadata": {},
   "outputs": [
    {
     "name": "stdout",
     "output_type": "stream",
     "text": [
      "(2, 2) (2, 2)\n",
      "[[3.6923774  4.01660342]\n",
      " [9.35370363 6.44308567]] \n",
      " \n",
      " [[1.72159259 9.990944  ]\n",
      " [8.42531432 9.05727749]]\n"
     ]
    }
   ],
   "source": [
    "n_vector,n_element=2,2\n",
    "u=np.random.uniform(0,10,(n_vector,n_element))\n",
    "v=np.random.uniform(0,10,(n_vector,n_element))\n",
    "print(u.shape,v.shape)\n",
    "print(u,'\\n \\n',v)"
   ]
  },
  {
   "cell_type": "code",
   "execution_count": 39,
   "metadata": {},
   "outputs": [
    {
     "name": "stdout",
     "output_type": "stream",
     "text": [
      "[7.94512539 3.54258114]\n"
     ]
    }
   ],
   "source": [
    "m_dist=np.sum(np.abs(u-v),axis=1)\n",
    "print(m_dist)"
   ]
  },
  {
   "cell_type": "code",
   "execution_count": 41,
   "metadata": {},
   "outputs": [
    {
     "name": "stdout",
     "output_type": "stream",
     "text": [
      "(3, 2) (4, 2)\n"
     ]
    }
   ],
   "source": [
    "n_vector1,n_vector2=3,4\n",
    "n_element=2\n",
    "U=np.random.uniform(0,10,(n_vector1,n_element))\n",
    "V=np.random.uniform(0,10,(n_vector2,n_element))\n",
    "print(U.shape,V.shape)"
   ]
  },
  {
   "cell_type": "code",
   "execution_count": 43,
   "metadata": {},
   "outputs": [
    {
     "name": "stdout",
     "output_type": "stream",
     "text": [
      "(1, 3, 2) (4, 1, 2)\n"
     ]
    }
   ],
   "source": [
    "U_=np.expand_dims(U,0)\n",
    "V_=np.expand_dims(V,1)\n",
    "print(U_.shape,V_.shape)\n"
   ]
  },
  {
   "cell_type": "code",
   "execution_count": 46,
   "metadata": {},
   "outputs": [
    {
     "name": "stdout",
     "output_type": "stream",
     "text": [
      "(4, 3)\n",
      "[[9.89154589 2.12342471 2.47720689]\n",
      " [2.52085627 7.99175943 9.84789651]\n",
      " [8.69877868 2.34828999 3.66997411]\n",
      " [5.78539958 4.72721612 6.5833532 ]]\n"
     ]
    }
   ],
   "source": [
    "m_dist=np.sum(np.abs(U_-V_),axis=-1)\n",
    "print(m_dist.shape)\n",
    "print(m_dist)"
   ]
  },
  {
   "cell_type": "code",
   "execution_count": 50,
   "metadata": {},
   "outputs": [
    {
     "name": "stdout",
     "output_type": "stream",
     "text": [
      "cosine similarty 0.8326352548464262\n"
     ]
    }
   ],
   "source": [
    "#cosine similarity\n",
    "import numpy as np\n",
    "from termcolor import colored\n",
    "np.printoptions(precision=2)\n",
    "n_element=4\n",
    "u=np.random.uniform(0,10,(n_element,))\n",
    "v=np.random.uniform(0,10,(n_element,))\n",
    "u_len=np.sqrt(np.sum(np.square(u)))\n",
    "v_len=np.sqrt(np.sum(np.square(v)))\n",
    "u_unit=u/u_len\n",
    "v_unit=v/v_len\n",
    "cos=np.sum(u_unit*v_unit)\n",
    "print('cosine similarty',cos)"
   ]
  },
  {
   "cell_type": "code",
   "execution_count": 53,
   "metadata": {},
   "outputs": [
    {
     "name": "stdout",
     "output_type": "stream",
     "text": [
      "[0.76359212 0.48772192 0.53641166]\n"
     ]
    }
   ],
   "source": [
    "n_element=4\n",
    "n_vector=3\n",
    "U=np.random.uniform(0,10,(n_vector,n_element))\n",
    "V=np.random.uniform(0,10,(n_vector,n_element))\n",
    "U_len=np.sqrt(np.sum(np.square(U),axis=1)).reshape(-1,1)\n",
    "V_len=np.sqrt(np.sum(np.square(V),axis=1)).reshape(-1,1)\n",
    "U_unit=U/U_len\n",
    "V_unit=V/V_len\n",
    "cos_=np.sum(U_unit*V_unit,axis=1)\n",
    "print(cos_)"
   ]
  },
  {
   "cell_type": "code",
   "execution_count": 55,
   "metadata": {},
   "outputs": [
    {
     "name": "stdout",
     "output_type": "stream",
     "text": [
      "[[0.78894457 0.78307889 0.87577952]\n",
      " [0.97050874 0.88335193 0.90573533]\n",
      " [0.75117063 0.9748964  0.84860853]\n",
      " [0.81054417 0.58778802 0.85303773]]\n"
     ]
    }
   ],
   "source": [
    "n_vector1, n_vector2=3,4\n",
    "n_element=4\n",
    "U=np.random.uniform(0,10,(n_vector1,n_element))\n",
    "V=np.random.uniform(0,10,(n_vector2,n_element))\n",
    "U_len=np.sqrt(np.sum(np.square(U),axis=1).reshape(-1,1))\n",
    "V_len=np.sqrt(np.sum(np.square(V),axis=1).reshape(-1,1))\n",
    "U_unit=U/U_len\n",
    "V_unit=V/V_len\n",
    "U_unit_=np.expand_dims(U_unit,axis=0)\n",
    "V_unit_=np.expand_dims(V_unit,axis=1)\n",
    "cos_=np.sum(U_unit_*V_unit_,axis=-1)\n",
    "print(cos_)"
   ]
  },
  {
   "cell_type": "code",
   "execution_count": null,
   "metadata": {},
   "outputs": [],
   "source": []
  }
 ],
 "metadata": {
  "interpreter": {
   "hash": "3101f0bc9c39296a2be38b5574a0049b5b88c1d473b09cb717b365a8aacc7cb9"
  },
  "kernelspec": {
   "display_name": "Python 3.7.11 ('my_torch')",
   "language": "python",
   "name": "python3"
  },
  "language_info": {
   "name": "python",
   "version": "3.7.11"
  },
  "orig_nbformat": 4
 },
 "nbformat": 4,
 "nbformat_minor": 2
}
